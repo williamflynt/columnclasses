{
 "cells": [
  {
   "cell_type": "markdown",
   "metadata": {},
   "source": [
    "# Pandas Test Notebook\n",
    "- For Columnclasses script"
   ]
  },
  {
   "cell_type": "code",
   "execution_count": 5,
   "metadata": {},
   "outputs": [],
   "source": [
    "import pandas as pd\n",
    "import numpy as np"
   ]
  },
  {
   "cell_type": "code",
   "execution_count": 6,
   "metadata": {},
   "outputs": [],
   "source": [
    "# average line length\n",
    "# average token count\n",
    "# average token length\n",
    "# percent chars digit\n",
    "# percent chars alpha\n",
    "# percent chars whitespace\n",
    "# percent chars other\n",
    "# unique char count\n",
    "# unique token count"
   ]
  },
  {
   "cell_type": "markdown",
   "metadata": {},
   "source": [
    "- Output formats of the json are in the output of this cell"
   ]
  },
  {
   "cell_type": "code",
   "execution_count": 9,
   "metadata": {},
   "outputs": [
    {
     "data": {
      "text/html": [
       "<div>\n",
       "<style scoped>\n",
       "    .dataframe tbody tr th:only-of-type {\n",
       "        vertical-align: middle;\n",
       "    }\n",
       "\n",
       "    .dataframe tbody tr th {\n",
       "        vertical-align: top;\n",
       "    }\n",
       "\n",
       "    .dataframe thead th {\n",
       "        text-align: right;\n",
       "    }\n",
       "</style>\n",
       "<table border=\"1\" class=\"dataframe\">\n",
       "  <thead>\n",
       "    <tr style=\"text-align: right;\">\n",
       "      <th></th>\n",
       "      <th>Deborah</th>\n",
       "      <th>Pirruccello</th>\n",
       "      <th>636 Wilbur Court</th>\n",
       "      <th>Gurnee</th>\n",
       "      <th>IL</th>\n",
       "      <th>60031</th>\n",
       "    </tr>\n",
       "  </thead>\n",
       "  <tbody>\n",
       "    <tr>\n",
       "      <td>0</td>\n",
       "      <td>Karen</td>\n",
       "      <td>Brown</td>\n",
       "      <td>6 Worden Court</td>\n",
       "      <td>Annapolis</td>\n",
       "      <td>MD</td>\n",
       "      <td>21401</td>\n",
       "    </tr>\n",
       "    <tr>\n",
       "      <td>1</td>\n",
       "      <td>Nicoleta</td>\n",
       "      <td>Tripon</td>\n",
       "      <td>1025 Amber Knoll Dr.</td>\n",
       "      <td>Rockwall</td>\n",
       "      <td>TX</td>\n",
       "      <td>75087</td>\n",
       "    </tr>\n",
       "    <tr>\n",
       "      <td>2</td>\n",
       "      <td>Sally</td>\n",
       "      <td>Knight</td>\n",
       "      <td>27650 N. 72nd Pl.</td>\n",
       "      <td>Scottsdale</td>\n",
       "      <td>AZ</td>\n",
       "      <td>85266</td>\n",
       "    </tr>\n",
       "    <tr>\n",
       "      <td>3</td>\n",
       "      <td>Joseph</td>\n",
       "      <td>Baker</td>\n",
       "      <td>2016 N. Glenview</td>\n",
       "      <td>Mesa</td>\n",
       "      <td>AZ</td>\n",
       "      <td>85213</td>\n",
       "    </tr>\n",
       "    <tr>\n",
       "      <td>4</td>\n",
       "      <td>Linda</td>\n",
       "      <td>Kelley</td>\n",
       "      <td>1605 W. Barrow Dr.</td>\n",
       "      <td>Chandler</td>\n",
       "      <td>AZ</td>\n",
       "      <td>85224</td>\n",
       "    </tr>\n",
       "  </tbody>\n",
       "</table>\n",
       "</div>"
      ],
      "text/plain": [
       "    Deborah Pirruccello      636 Wilbur Court      Gurnee  IL  60031\n",
       "0     Karen       Brown        6 Worden Court   Annapolis  MD  21401\n",
       "1  Nicoleta      Tripon  1025 Amber Knoll Dr.    Rockwall  TX  75087\n",
       "2     Sally      Knight     27650 N. 72nd Pl.  Scottsdale  AZ  85266\n",
       "3    Joseph       Baker      2016 N. Glenview        Mesa  AZ  85213\n",
       "4     Linda      Kelley    1605 W. Barrow Dr.    Chandler  AZ  85224"
      ]
     },
     "metadata": {},
     "output_type": "display_data"
    },
    {
     "name": "stdout",
     "output_type": "stream",
     "text": [
      "{\"Deborah\":{\"mean_token_count\":1.0350877193,\"mean_token_length\":0.9943502825,\"frac_digit\":0.0,\"frac_alpha\":0.9943502825,\"frac_space\":0.0056497175,\"frac_other_text\":0.0,\"mean_line_length\":6.2105263158,\"median_line_length\":6.0,\"std_line_length\":1.4109452114,\"unq_char_count\":40.0,\"unq_token_count\":51.0},\"Pirruccello\":{\"mean_token_count\":1.0,\"mean_token_length\":1.0,\"frac_digit\":0.0,\"frac_alpha\":0.9922680412,\"frac_space\":0.0,\"frac_other_text\":0.0077319588,\"mean_line_length\":6.8070175439,\"median_line_length\":6.0,\"std_line_length\":2.282185752,\"unq_char_count\":48.0,\"unq_token_count\":54.0},\"636 Wilbur Court\":{\"mean_token_count\":4.1754385965,\"mean_token_length\":0.8403880071,\"frac_digit\":0.2425044092,\"frac_alpha\":0.5202821869,\"frac_space\":0.1596119929,\"frac_other_text\":0.0776014109,\"mean_line_length\":19.8947368421,\"median_line_length\":19.0,\"std_line_length\":4.8147587815,\"unq_char_count\":60.0,\"unq_token_count\":57.0},\"Gurnee\":{\"mean_token_count\":1.1929824561,\"mean_token_length\":0.9771784232,\"frac_digit\":0.0,\"frac_alpha\":0.9771784232,\"frac_space\":0.0228215768,\"frac_other_text\":0.0,\"mean_line_length\":8.4561403509,\"median_line_length\":8.0,\"std_line_length\":2.5620042554,\"unq_char_count\":39.0,\"unq_token_count\":32.0},\"IL\":{\"mean_token_count\":1.0,\"mean_token_length\":1.0,\"frac_digit\":0.0,\"frac_alpha\":1.0,\"frac_space\":0.0,\"frac_other_text\":0.0,\"mean_line_length\":2.0,\"median_line_length\":2.0,\"std_line_length\":0.0,\"unq_char_count\":15.0,\"unq_token_count\":10.0},\"60031\":{\"mean_token_count\":1.0,\"mean_token_length\":1.0,\"frac_digit\":1.0,\"frac_alpha\":0.0,\"frac_space\":0.0,\"frac_other_text\":0.0,\"mean_line_length\":5.0,\"median_line_length\":5.0,\"std_line_length\":0.0,\"unq_char_count\":10.0,\"unq_token_count\":52.0}}\n"
     ]
    },
    {
     "data": {
      "text/plain": [
       "'{\"mean_token_count\":{\"Deborah\":1.0350877193,\"Pirruccello\":1.0,\"636 Wilbur Court\":4.1754385965,\"Gurnee\":1.1929824561,\"IL\":1.0,\"60031\":1.0},\"mean_token_length\":{\"Deborah\":0.9943502825,\"Pirruccello\":1.0,\"636 Wilbur Court\":0.8403880071,\"Gurnee\":0.9771784232,\"IL\":1.0,\"60031\":1.0},\"frac_digit\":{\"Deborah\":0.0,\"Pirruccello\":0.0,\"636 Wilbur Court\":0.2425044092,\"Gurnee\":0.0,\"IL\":0.0,\"60031\":1.0},\"frac_alpha\":{\"Deborah\":0.9943502825,\"Pirruccello\":0.9922680412,\"636 Wilbur Court\":0.5202821869,\"Gurnee\":0.9771784232,\"IL\":1.0,\"60031\":0.0},\"frac_space\":{\"Deborah\":0.0056497175,\"Pirruccello\":0.0,\"636 Wilbur Court\":0.1596119929,\"Gurnee\":0.0228215768,\"IL\":0.0,\"60031\":0.0},\"frac_other_text\":{\"Deborah\":0.0,\"Pirruccello\":0.0077319588,\"636 Wilbur Court\":0.0776014109,\"Gurnee\":0.0,\"IL\":0.0,\"60031\":0.0},\"mean_line_length\":{\"Deborah\":6.2105263158,\"Pirruccello\":6.8070175439,\"636 Wilbur Court\":19.8947368421,\"Gurnee\":8.4561403509,\"IL\":2.0,\"60031\":5.0},\"median_line_length\":{\"Deborah\":6.0,\"Pirruccello\":6.0,\"636 Wilbur Court\":19.0,\"Gurnee\":8.0,\"IL\":2.0,\"60031\":5.0},\"std_line_length\":{\"Deborah\":1.4109452114,\"Pirruccello\":2.282185752,\"636 Wilbur Court\":4.8147587815,\"Gurnee\":2.5620042554,\"IL\":0.0,\"60031\":0.0},\"unq_char_count\":{\"Deborah\":40,\"Pirruccello\":48,\"636 Wilbur Court\":60,\"Gurnee\":39,\"IL\":15,\"60031\":10},\"unq_token_count\":{\"Deborah\":51,\"Pirruccello\":54,\"636 Wilbur Court\":57,\"Gurnee\":32,\"IL\":10,\"60031\":52}}'"
      ]
     },
     "execution_count": 9,
     "metadata": {},
     "output_type": "execute_result"
    }
   ],
   "source": [
    "df = pd.read_cs`v('./Copy_of_4_3_19_-_Sheet1.csv')\n",
    "_df = pd.DataFrame()\n",
    "_cols = ['a','b']\n",
    "\n",
    "display(df.head())\n",
    "# print(df.describe())\n",
    "\n",
    "\n",
    "\n",
    "cols = df.columns.tolist()\n",
    "# df[cols[0]+\"x\"] = df[]\n",
    "\n",
    "def count_digits(s):\n",
    "    return sum(c.isdigit() for c in s)\n",
    "\n",
    "def count_letters(s):\n",
    "    return sum(c.isalpha() for c in s)\n",
    "\n",
    "def count_spaces(s):\n",
    "    return sum(c.isspace() for c in s)\n",
    "\n",
    "def count_other_text(s):\n",
    "    return len(s) - count_digits(s) - count_letters(s) - count_spaces(s)\n",
    "\n",
    "def frac_fxn(fxn, rows):\n",
    "    s=0\n",
    "    return np.sum([fxn(str(s)) for s in rows])/np.sum([len(str(s)) for s in rows])\n",
    "     \n",
    "    \n",
    "# avg of char length of field\n",
    "# df2 = df.apply(lambda rows: np.mean([len(str(i)) for i in rows]))\n",
    "\n",
    "\n",
    "_df['mean_token_count'] = df.apply(lambda rows: np.mean([len(str(s).split()) for s in rows]))\n",
    "_df['mean_token_length'] = df.apply(lambda rows: np.mean( [len(i.split()) for s in rows for i in str(s) ]   ))\n",
    "\n",
    "_df['frac_digit'] = df.apply(lambda rows: frac_fxn(count_digits,rows))\n",
    "_df['frac_alpha'] = df.apply(lambda rows: frac_fxn(count_letters,rows))\n",
    "_df['frac_space'] = df.apply(lambda rows: frac_fxn(count_spaces,rows))\n",
    "_df['frac_other_text'] = df.apply(lambda rows: frac_fxn(count_other_text,rows))\n",
    "\n",
    "_df['mean_line_length'] = df.apply(lambda rows: np.mean([len(str(s)) for s in rows]))\n",
    "_df['median_line_length'] = df.apply(lambda rows: np.median([len(str(s)) for s in rows]))\n",
    "_df['std_line_length'] = df.apply(lambda rows: np.std([len(str(s)) for s in rows]))\n",
    "\n",
    "_df['unq_char_count'] = df.apply(lambda rows: len(set([i for s in rows for i in str(s)])))\n",
    "_df['unq_token_count'] = df.apply(lambda rows: len(set([str(s) for s in rows])))\n",
    "\n",
    "# _df['row_count'] = df.apply(lambda rows: len(rows))\n",
    "\n",
    "_df.head(10)\n",
    "\n",
    "print(_df.transpose().to_json())\n",
    "_df.to_json()"
   ]
  },
  {
   "cell_type": "raw",
   "metadata": {},
   "source": [
    "{\"columns\": [\n",
    "  {\n",
    "    \"main\": \"Classifier.label\",\n",
    "    \"sub\": \"Classifier.label\",\n",
    "    \"label\": \"\".join([sub, main]),\n",
    "    \"features\": { \"key\": \"value\", ... },\n",
    "  }\n",
    "]}"
   ]
  },
  {
   "cell_type": "code",
   "execution_count": null,
   "metadata": {},
   "outputs": [],
   "source": []
  }
 ],
 "metadata": {
  "kernelspec": {
   "display_name": "Python 3",
   "language": "python",
   "name": "python3"
  },
  "language_info": {
   "codemirror_mode": {
    "name": "ipython",
    "version": 3
   },
   "file_extension": ".py",
   "mimetype": "text/x-python",
   "name": "python",
   "nbconvert_exporter": "python",
   "pygments_lexer": "ipython3",
   "version": "3.5.3"
  }
 },
 "nbformat": 4,
 "nbformat_minor": 4
}
